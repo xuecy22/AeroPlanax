{
 "cells": [
  {
   "cell_type": "markdown",
   "metadata": {},
   "source": [
    "# F16 jax version"
   ]
  },
  {
   "cell_type": "code",
   "execution_count": 1,
   "metadata": {},
   "outputs": [],
   "source": [
    "import os\n",
    "os.environ['XLA_PYTHON_CLIENT_ALLOCATOR'] = 'platform'\n",
    "from jax import random, vmap, jit\n",
    "import jax\n",
    "import jax.numpy as jnp\n",
    "from F16_jax.F16Dynamics import update\n",
    "\n",
    "\n",
    "n = 1000000\n",
    "rng = jax.random.PRNGKey(42)\n",
    "rng, _rng = jax.random.split(rng)\n",
    "x_jnp = random.uniform(_rng, (n, 12))\n",
    "u_jnp = random.uniform(_rng, (n, 5))\n",
    "update_F16_vmap = jit(vmap(update, in_axes=(0, 0, None)))\n",
    "result_F16_jnp = update_F16_vmap(x_jnp, u_jnp, 0.02)"
   ]
  },
  {
   "cell_type": "code",
   "execution_count": null,
   "metadata": {},
   "outputs": [],
   "source": [
    "%timeit update_F16_vmap(x_jnp, u_jnp, 0.02)"
   ]
  },
  {
   "cell_type": "markdown",
   "metadata": {},
   "source": [
    "# F16 torch version"
   ]
  },
  {
   "cell_type": "code",
   "execution_count": null,
   "metadata": {},
   "outputs": [],
   "source": [
    "import torch\n",
    "from torchdiffeq import odeint_adjoint as odeint\n",
    "from F16_torch.F16Dynamics import F16Dynamics\n",
    "device = torch.device(\"cuda:0\" if torch.cuda.is_available() else \"cpu\")\n",
    "\n",
    "dynamics = F16Dynamics(device)\n",
    "\n",
    "    \n",
    "def update_F16_torch(x, u, dt):\n",
    "    x = odeint(dynamics,\n",
    "                    torch.hstack((x, u)),\n",
    "                    torch.tensor([0., dt], device=device),\n",
    "                    method='euler')[1, :, :12]\n",
    "    return x\n",
    "\n",
    "x_tensor = torch.from_numpy(jax.device_get(x_jnp)).to(device)\n",
    "u_tensor = torch.from_numpy(jax.device_get(u_jnp)).to(device)\n",
    "result_F16_tensor = update_F16_torch(x_tensor, u_tensor, 0.02)"
   ]
  },
  {
   "cell_type": "code",
   "execution_count": null,
   "metadata": {},
   "outputs": [],
   "source": [
    "%timeit update_F16_torch(x, u, 0.02)"
   ]
  },
  {
   "cell_type": "markdown",
   "metadata": {},
   "source": [
    "# J20 original version"
   ]
  },
  {
   "cell_type": "code",
   "execution_count": 7,
   "metadata": {},
   "outputs": [],
   "source": [
    "from uav_plant.flight_dynamics_model.plane import Plane\n",
    "import numpy as np\n",
    "\n",
    "n = 1000000\n",
    "cmdInput_numpy = None\n",
    "result_J20_numpy = None\n",
    "for _ in range(n):\n",
    "    cmdInput = np.random.rand(12) * 1000 + 1000\n",
    "    plane = Plane()\n",
    "    plane.update(0.2, cmdInput)\n",
    "    if cmdInput_numpy is None:\n",
    "        cmdInput_numpy = cmdInput.reshape(1, -1)\n",
    "        result_J20_numpy = plane.dynamics.motionState.state.reshape(1, -1)\n",
    "    else:\n",
    "        cmdInput_numpy = np.vstack((cmdInput_numpy, cmdInput.reshape(1, -1)))\n",
    "        result_J20_numpy = np.vstack((result_J20_numpy, plane.dynamics.motionState.state.reshape(1, -1)))"
   ]
  },
  {
   "cell_type": "markdown",
   "metadata": {},
   "source": [
    "# J20 jax version"
   ]
  },
  {
   "cell_type": "code",
   "execution_count": 1,
   "metadata": {},
   "outputs": [],
   "source": [
    "import os\n",
    "os.environ['XLA_PYTHON_CLIENT_ALLOCATOR'] = 'platform'\n",
    "import jax\n",
    "import jax.numpy as jnp\n",
    "from J20_jax.flight_dynamics_model import plane\n",
    "\n",
    "n = 1000000\n",
    "latitude = 31.835 * jnp.ones(n)\n",
    "longitude = 117.089 * jnp.ones(n)\n",
    "altitude = 31.0 * jnp.ones(n)\n",
    "roll = jnp.zeros(n)\n",
    "pitch = jnp.zeros(n)\n",
    "yaw = jnp.zeros(n)\n",
    "velNED = jnp.zeros((n, 3))\n",
    "angVel = jnp.zeros((n, 3))\n",
    "accelNED = jnp.zeros((n, 3))\n",
    "fuelVolume = -jnp.ones(n)\n",
    "CSD = jnp.zeros((n, 6))\n",
    "J20Plane = jax.jit(jax.vmap(plane.createPlane, \n",
    "                            in_axes=(0, 0, 0, 0, 0, 0, 0, 0, 0, 0, 0)))(\n",
    "                                latitude, longitude, altitude,\n",
    "                                roll, pitch, yaw,\n",
    "                                velNED, angVel, accelNED,\n",
    "                                fuelVolume, CSD\n",
    "                            )"
   ]
  },
  {
   "cell_type": "code",
   "execution_count": 2,
   "metadata": {},
   "outputs": [],
   "source": [
    "key = jax.random.PRNGKey(42)\n",
    "cmdInput_jnp = jax.random.normal(key, shape=(n, 12))\n",
    "# cmdInput_jnp = jnp.array(cmdInput_numpy.reshape(-1, 12))\n",
    "update_J20_vmap = jax.jit(jax.vmap(plane.update, in_axes=(0, None, 0)))\n",
    "J20Plane = update_J20_vmap(J20Plane, 0.02, cmdInput_jnp)\n",
    "result_J20_jnp = jnp.hstack((\n",
    "    J20Plane.dynamics.motionState.position_NED,\n",
    "    J20Plane.dynamics.motionState.velocity_Body,\n",
    "    J20Plane.dynamics.motionState.quaternion_Body2NED,\n",
    "    J20Plane.dynamics.motionState.angularSpeed_Body,\n",
    "    J20Plane.dynamics.motionState.accel_Body\n",
    "    ))"
   ]
  },
  {
   "cell_type": "code",
   "execution_count": 3,
   "metadata": {},
   "outputs": [
    {
     "name": "stdout",
     "output_type": "stream",
     "text": [
      "56.1 ms ± 4.24 ms per loop (mean ± std. dev. of 7 runs, 1 loop each)\n"
     ]
    }
   ],
   "source": [
    "%timeit update_J20_vmap(J20Plane, 0.02, cmdInput_jnp)"
   ]
  },
  {
   "cell_type": "markdown",
   "metadata": {},
   "source": [
    "# Compare results"
   ]
  },
  {
   "cell_type": "code",
   "execution_count": 7,
   "metadata": {},
   "outputs": [],
   "source": [
    "result_F16_jnp = jax.device_get(result_F16_jnp)\n",
    "result_F16_tensor = result_F16_tensor.cpu().numpy()"
   ]
  },
  {
   "cell_type": "code",
   "execution_count": null,
   "metadata": {},
   "outputs": [],
   "source": [
    "\n",
    "from scipy.stats import pearsonr\n",
    "\n",
    "\n",
    "p1 = pearsonr(result_F16_jnp, result_F16_tensor)\n",
    "print(p1)"
   ]
  },
  {
   "cell_type": "code",
   "execution_count": null,
   "metadata": {},
   "outputs": [],
   "source": [
    "from scipy.stats import pearsonr\n",
    "\n",
    "result_J20_jnp = jax.device_get(result_J20_jnp)\n",
    "p1 = pearsonr(result_J20_jnp, result_J20_numpy)\n",
    "print(result_J20_numpy)\n",
    "print(result_J20_jnp)\n",
    "print(p1)"
   ]
  }
 ],
 "metadata": {
  "kernelspec": {
   "display_name": "aeroplanax",
   "language": "python",
   "name": "python3"
  },
  "language_info": {
   "codemirror_mode": {
    "name": "ipython",
    "version": 3
   },
   "file_extension": ".py",
   "mimetype": "text/x-python",
   "name": "python",
   "nbconvert_exporter": "python",
   "pygments_lexer": "ipython3",
   "version": "3.11.11"
  }
 },
 "nbformat": 4,
 "nbformat_minor": 2
}
